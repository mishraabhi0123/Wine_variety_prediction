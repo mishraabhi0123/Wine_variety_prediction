{
  "nbformat": 4,
  "nbformat_minor": 0,
  "metadata": {
    "kernelspec": {
      "display_name": "'Python Interactive'",
      "language": "python",
      "name": "a753e186-98fb-477f-be9a-d1781906cfa9"
    },
    "language_info": {
      "codemirror_mode": {
        "name": "ipython",
        "version": 3
      },
      "file_extension": ".py",
      "mimetype": "text/x-python",
      "name": "python",
      "nbconvert_exporter": "python",
      "pygments_lexer": "ipython3",
      "version": "3.6.9"
    },
    "colab": {
      "name": "Solution.ipynb",
      "provenance": []
    }
  },
  "cells": [
    {
      "cell_type": "code",
      "metadata": {
        "id": "ujDg9Rjk6R-d",
        "colab_type": "code",
        "colab": {}
      },
      "source": [
        "import numpy as np\n",
        "import pandas as pd\n",
        "import tensorflow as tf\n",
        "from sklearn.preprocessing import LabelEncoder, OneHotEncoder"
      ],
      "execution_count": 0,
      "outputs": []
    },
    {
      "cell_type": "code",
      "metadata": {
        "id": "jkDbTeVe6R-i",
        "colab_type": "code",
        "colab": {
          "base_uri": "https://localhost:8080/",
          "height": 479
        },
        "outputId": "fd15838e-c7f8-4af8-b0a3-a01f188c2d4c"
      },
      "source": [
        "train_path = '/content/train.csv'\n",
        "test_path = '/content/test.csv'\n",
        "train_WineData = pd.read_csv(train_path)\n",
        "test_WineData = pd.read_csv(test_path)\n",
        "print('TRAIN DATA')\n",
        "train_WineData.head()"
      ],
      "execution_count": 2,
      "outputs": [
        {
          "output_type": "stream",
          "text": [
            "TRAIN DATA\n"
          ],
          "name": "stdout"
        },
        {
          "output_type": "execute_result",
          "data": {
            "text/html": [
              "<div>\n",
              "<style scoped>\n",
              "    .dataframe tbody tr th:only-of-type {\n",
              "        vertical-align: middle;\n",
              "    }\n",
              "\n",
              "    .dataframe tbody tr th {\n",
              "        vertical-align: top;\n",
              "    }\n",
              "\n",
              "    .dataframe thead th {\n",
              "        text-align: right;\n",
              "    }\n",
              "</style>\n",
              "<table border=\"1\" class=\"dataframe\">\n",
              "  <thead>\n",
              "    <tr style=\"text-align: right;\">\n",
              "      <th></th>\n",
              "      <th>user_name</th>\n",
              "      <th>country</th>\n",
              "      <th>review_title</th>\n",
              "      <th>review_description</th>\n",
              "      <th>designation</th>\n",
              "      <th>points</th>\n",
              "      <th>price</th>\n",
              "      <th>province</th>\n",
              "      <th>region_1</th>\n",
              "      <th>region_2</th>\n",
              "      <th>winery</th>\n",
              "      <th>variety</th>\n",
              "    </tr>\n",
              "  </thead>\n",
              "  <tbody>\n",
              "    <tr>\n",
              "      <th>0</th>\n",
              "      <td>NaN</td>\n",
              "      <td>Australia</td>\n",
              "      <td>Andrew Peace 2007 Peace Family Vineyard Chardo...</td>\n",
              "      <td>Classic Chardonnay aromas of apple, pear and h...</td>\n",
              "      <td>Peace Family Vineyard</td>\n",
              "      <td>83</td>\n",
              "      <td>10.0</td>\n",
              "      <td>Australia Other</td>\n",
              "      <td>South Eastern Australia</td>\n",
              "      <td>NaN</td>\n",
              "      <td>Andrew Peace</td>\n",
              "      <td>Chardonnay</td>\n",
              "    </tr>\n",
              "    <tr>\n",
              "      <th>1</th>\n",
              "      <td>@wawinereport</td>\n",
              "      <td>US</td>\n",
              "      <td>North by Northwest 2014 Red (Columbia Valley (...</td>\n",
              "      <td>This wine is near equal parts Syrah and Merlot...</td>\n",
              "      <td>NaN</td>\n",
              "      <td>89</td>\n",
              "      <td>15.0</td>\n",
              "      <td>Washington</td>\n",
              "      <td>Columbia Valley (WA)</td>\n",
              "      <td>Columbia Valley</td>\n",
              "      <td>North by Northwest</td>\n",
              "      <td>Red Blend</td>\n",
              "    </tr>\n",
              "    <tr>\n",
              "      <th>2</th>\n",
              "      <td>NaN</td>\n",
              "      <td>Italy</td>\n",
              "      <td>Renato Ratti 2007 Conca  (Barolo)</td>\n",
              "      <td>Barolo Conca opens with inky dark concentratio...</td>\n",
              "      <td>Conca</td>\n",
              "      <td>94</td>\n",
              "      <td>80.0</td>\n",
              "      <td>Piedmont</td>\n",
              "      <td>Barolo</td>\n",
              "      <td>NaN</td>\n",
              "      <td>Renato Ratti</td>\n",
              "      <td>Nebbiolo</td>\n",
              "    </tr>\n",
              "    <tr>\n",
              "      <th>3</th>\n",
              "      <td>@vossroger</td>\n",
              "      <td>France</td>\n",
              "      <td>Domaine l'Ancienne Cure 2010 L'Abbaye White (B...</td>\n",
              "      <td>It's impressive what a small addition of Sauvi...</td>\n",
              "      <td>L'Abbaye</td>\n",
              "      <td>87</td>\n",
              "      <td>22.0</td>\n",
              "      <td>Southwest France</td>\n",
              "      <td>Bergerac Sec</td>\n",
              "      <td>NaN</td>\n",
              "      <td>Domaine l'Ancienne Cure</td>\n",
              "      <td>Bordeaux-style White Blend</td>\n",
              "    </tr>\n",
              "    <tr>\n",
              "      <th>4</th>\n",
              "      <td>@vossroger</td>\n",
              "      <td>France</td>\n",
              "      <td>Château du Cèdre 2012 Le Cèdre Vintage Malbec ...</td>\n",
              "      <td>This ripe, sweet wine is rich and full of drie...</td>\n",
              "      <td>Le Cèdre Vintage</td>\n",
              "      <td>88</td>\n",
              "      <td>33.0</td>\n",
              "      <td>France Other</td>\n",
              "      <td>Vin de Liqueur</td>\n",
              "      <td>NaN</td>\n",
              "      <td>Château du Cèdre</td>\n",
              "      <td>Malbec</td>\n",
              "    </tr>\n",
              "  </tbody>\n",
              "</table>\n",
              "</div>"
            ],
            "text/plain": [
              "       user_name  ...                     variety\n",
              "0            NaN  ...                  Chardonnay\n",
              "1  @wawinereport  ...                   Red Blend\n",
              "2            NaN  ...                    Nebbiolo\n",
              "3     @vossroger  ...  Bordeaux-style White Blend\n",
              "4     @vossroger  ...                      Malbec\n",
              "\n",
              "[5 rows x 12 columns]"
            ]
          },
          "metadata": {
            "tags": []
          },
          "execution_count": 2
        }
      ]
    },
    {
      "cell_type": "code",
      "metadata": {
        "id": "PCJM1oT-6R-m",
        "colab_type": "code",
        "colab": {
          "base_uri": "https://localhost:8080/",
          "height": 462
        },
        "outputId": "7d286343-980e-4476-b01f-088aae3fc038"
      },
      "source": [
        "print('TEST DATA')\n",
        "test_WineData.head()"
      ],
      "execution_count": 3,
      "outputs": [
        {
          "output_type": "stream",
          "text": [
            "TEST DATA\n"
          ],
          "name": "stdout"
        },
        {
          "output_type": "execute_result",
          "data": {
            "text/html": [
              "<div>\n",
              "<style scoped>\n",
              "    .dataframe tbody tr th:only-of-type {\n",
              "        vertical-align: middle;\n",
              "    }\n",
              "\n",
              "    .dataframe tbody tr th {\n",
              "        vertical-align: top;\n",
              "    }\n",
              "\n",
              "    .dataframe thead th {\n",
              "        text-align: right;\n",
              "    }\n",
              "</style>\n",
              "<table border=\"1\" class=\"dataframe\">\n",
              "  <thead>\n",
              "    <tr style=\"text-align: right;\">\n",
              "      <th></th>\n",
              "      <th>user_name</th>\n",
              "      <th>country</th>\n",
              "      <th>review_title</th>\n",
              "      <th>review_description</th>\n",
              "      <th>designation</th>\n",
              "      <th>points</th>\n",
              "      <th>price</th>\n",
              "      <th>province</th>\n",
              "      <th>region_1</th>\n",
              "      <th>region_2</th>\n",
              "      <th>winery</th>\n",
              "    </tr>\n",
              "  </thead>\n",
              "  <tbody>\n",
              "    <tr>\n",
              "      <th>0</th>\n",
              "      <td>@paulgwine</td>\n",
              "      <td>US</td>\n",
              "      <td>Boedecker Cellars 2011 Athena Pinot Noir (Will...</td>\n",
              "      <td>Nicely differentiated from the companion Stewa...</td>\n",
              "      <td>Athena</td>\n",
              "      <td>88</td>\n",
              "      <td>35.0</td>\n",
              "      <td>Oregon</td>\n",
              "      <td>Willamette Valley</td>\n",
              "      <td>Willamette Valley</td>\n",
              "      <td>Boedecker Cellars</td>\n",
              "    </tr>\n",
              "    <tr>\n",
              "      <th>1</th>\n",
              "      <td>@wineschach</td>\n",
              "      <td>Argentina</td>\n",
              "      <td>Mendoza Vineyards 2012 Gran Reserva by Richard...</td>\n",
              "      <td>Charred, smoky, herbal aromas of blackberry tr...</td>\n",
              "      <td>Gran Reserva by Richard Bonvin</td>\n",
              "      <td>90</td>\n",
              "      <td>60.0</td>\n",
              "      <td>Mendoza Province</td>\n",
              "      <td>Mendoza</td>\n",
              "      <td>NaN</td>\n",
              "      <td>Mendoza Vineyards</td>\n",
              "    </tr>\n",
              "    <tr>\n",
              "      <th>2</th>\n",
              "      <td>@vboone</td>\n",
              "      <td>US</td>\n",
              "      <td>Prime 2013 Chardonnay (Coombsville)</td>\n",
              "      <td>Slightly sour and funky in earth, this is a re...</td>\n",
              "      <td>NaN</td>\n",
              "      <td>87</td>\n",
              "      <td>38.0</td>\n",
              "      <td>California</td>\n",
              "      <td>Coombsville</td>\n",
              "      <td>Napa</td>\n",
              "      <td>Prime</td>\n",
              "    </tr>\n",
              "    <tr>\n",
              "      <th>3</th>\n",
              "      <td>@wineschach</td>\n",
              "      <td>Argentina</td>\n",
              "      <td>Bodega Cuarto Dominio 2012 Chento Vineyard Sel...</td>\n",
              "      <td>This concentrated, midnight-black Malbec deliv...</td>\n",
              "      <td>Chento Vineyard Selection</td>\n",
              "      <td>91</td>\n",
              "      <td>20.0</td>\n",
              "      <td>Mendoza Province</td>\n",
              "      <td>Mendoza</td>\n",
              "      <td>NaN</td>\n",
              "      <td>Bodega Cuarto Dominio</td>\n",
              "    </tr>\n",
              "    <tr>\n",
              "      <th>4</th>\n",
              "      <td>@kerinokeefe</td>\n",
              "      <td>Italy</td>\n",
              "      <td>SassodiSole 2012  Brunello di Montalcino</td>\n",
              "      <td>Earthy aromas suggesting grilled porcini, leat...</td>\n",
              "      <td>NaN</td>\n",
              "      <td>90</td>\n",
              "      <td>49.0</td>\n",
              "      <td>Tuscany</td>\n",
              "      <td>Brunello di Montalcino</td>\n",
              "      <td>NaN</td>\n",
              "      <td>SassodiSole</td>\n",
              "    </tr>\n",
              "  </tbody>\n",
              "</table>\n",
              "</div>"
            ],
            "text/plain": [
              "      user_name    country  ...           region_2                 winery\n",
              "0   @paulgwine          US  ...  Willamette Valley      Boedecker Cellars\n",
              "1   @wineschach  Argentina  ...                NaN      Mendoza Vineyards\n",
              "2       @vboone         US  ...               Napa                  Prime\n",
              "3   @wineschach  Argentina  ...                NaN  Bodega Cuarto Dominio\n",
              "4  @kerinokeefe      Italy  ...                NaN            SassodiSole\n",
              "\n",
              "[5 rows x 11 columns]"
            ]
          },
          "metadata": {
            "tags": []
          },
          "execution_count": 3
        }
      ]
    },
    {
      "cell_type": "code",
      "metadata": {
        "id": "gRzCo00Y6R-p",
        "colab_type": "code",
        "colab": {
          "base_uri": "https://localhost:8080/",
          "height": 122
        },
        "outputId": "3157c604-3eb2-413e-e967-0b3f7bc73215"
      },
      "source": [
        "train_data_columns = list(train_WineData.columns)\n",
        "test_data_columns = list(test_WineData.columns)\n",
        "print('columns in training data')\n",
        "print(train_data_columns)\n",
        "print('')\n",
        "print('columns in testing data')\n",
        "print(test_data_columns)"
      ],
      "execution_count": 4,
      "outputs": [
        {
          "output_type": "stream",
          "text": [
            "columns in training data\n",
            "['user_name', 'country', 'review_title', 'review_description', 'designation', 'points', 'price', 'province', 'region_1', 'region_2', 'winery', 'variety']\n",
            "\n",
            "columns in testing data\n",
            "['user_name', 'country', 'review_title', 'review_description', 'designation', 'points', 'price', 'province', 'region_1', 'region_2', 'winery']\n"
          ],
          "name": "stdout"
        }
      ]
    },
    {
      "cell_type": "code",
      "metadata": {
        "id": "1lh_XoJv6R-r",
        "colab_type": "code",
        "colab": {}
      },
      "source": [
        "# Dropping features useless for classification\n",
        "train_WineData = train_WineData.drop(['user_name','review_title','review_description','designation','region_2'],axis=1)\n",
        "test_WineData = test_WineData.drop(['user_name','review_title','review_description','designation','region_2'],axis=1)\n",
        "# Dropping rows that contains null values\n",
        "train_WineData = train_WineData.dropna(subset = ['region_1','price'],inplace = False)\n",
        "test_WineData = test_WineData.dropna(subset = ['region_1','price'],inplace = False)"
      ],
      "execution_count": 0,
      "outputs": []
    },
    {
      "cell_type": "code",
      "metadata": {
        "id": "Q_0hFNRK6R-u",
        "colab_type": "code",
        "colab": {
          "base_uri": "https://localhost:8080/",
          "height": 272
        },
        "outputId": "1011aa0b-f670-4678-c935-031c4d6bf930"
      },
      "source": [
        "print('TRAIN DATA INFO')\n",
        "train_WineData.info()"
      ],
      "execution_count": 6,
      "outputs": [
        {
          "output_type": "stream",
          "text": [
            "TRAIN DATA INFO\n",
            "<class 'pandas.core.frame.DataFrame'>\n",
            "Int64Index: 65199 entries, 0 to 82656\n",
            "Data columns (total 7 columns):\n",
            " #   Column    Non-Null Count  Dtype  \n",
            "---  ------    --------------  -----  \n",
            " 0   country   65199 non-null  object \n",
            " 1   points    65199 non-null  int64  \n",
            " 2   price     65199 non-null  float64\n",
            " 3   province  65199 non-null  object \n",
            " 4   region_1  65199 non-null  object \n",
            " 5   winery    65199 non-null  object \n",
            " 6   variety   65199 non-null  object \n",
            "dtypes: float64(1), int64(1), object(5)\n",
            "memory usage: 4.0+ MB\n"
          ],
          "name": "stdout"
        }
      ]
    },
    {
      "cell_type": "code",
      "metadata": {
        "id": "Uxdf9zW06R-x",
        "colab_type": "code",
        "colab": {
          "base_uri": "https://localhost:8080/",
          "height": 255
        },
        "outputId": "27f5a50d-205c-40b7-df52-cf5bfc0eac55"
      },
      "source": [
        "print('TEST DATA INFO')\n",
        "test_WineData.info()"
      ],
      "execution_count": 7,
      "outputs": [
        {
          "output_type": "stream",
          "text": [
            "TEST DATA INFO\n",
            "<class 'pandas.core.frame.DataFrame'>\n",
            "Int64Index: 16203 entries, 0 to 20664\n",
            "Data columns (total 6 columns):\n",
            " #   Column    Non-Null Count  Dtype  \n",
            "---  ------    --------------  -----  \n",
            " 0   country   16203 non-null  object \n",
            " 1   points    16203 non-null  int64  \n",
            " 2   price     16203 non-null  float64\n",
            " 3   province  16203 non-null  object \n",
            " 4   region_1  16203 non-null  object \n",
            " 5   winery    16203 non-null  object \n",
            "dtypes: float64(1), int64(1), object(4)\n",
            "memory usage: 886.1+ KB\n"
          ],
          "name": "stdout"
        }
      ]
    },
    {
      "cell_type": "code",
      "metadata": {
        "id": "riOjsz9a6R-0",
        "colab_type": "code",
        "colab": {
          "base_uri": "https://localhost:8080/",
          "height": 376
        },
        "outputId": "26eda1dc-9827-4f39-b043-0ac9335ca71d"
      },
      "source": [
        "print('Train Data Head')\n",
        "train_WineData.head(10)"
      ],
      "execution_count": 8,
      "outputs": [
        {
          "output_type": "stream",
          "text": [
            "Train Data Head\n"
          ],
          "name": "stdout"
        },
        {
          "output_type": "execute_result",
          "data": {
            "text/html": [
              "<div>\n",
              "<style scoped>\n",
              "    .dataframe tbody tr th:only-of-type {\n",
              "        vertical-align: middle;\n",
              "    }\n",
              "\n",
              "    .dataframe tbody tr th {\n",
              "        vertical-align: top;\n",
              "    }\n",
              "\n",
              "    .dataframe thead th {\n",
              "        text-align: right;\n",
              "    }\n",
              "</style>\n",
              "<table border=\"1\" class=\"dataframe\">\n",
              "  <thead>\n",
              "    <tr style=\"text-align: right;\">\n",
              "      <th></th>\n",
              "      <th>country</th>\n",
              "      <th>points</th>\n",
              "      <th>price</th>\n",
              "      <th>province</th>\n",
              "      <th>region_1</th>\n",
              "      <th>winery</th>\n",
              "      <th>variety</th>\n",
              "    </tr>\n",
              "  </thead>\n",
              "  <tbody>\n",
              "    <tr>\n",
              "      <th>0</th>\n",
              "      <td>Australia</td>\n",
              "      <td>83</td>\n",
              "      <td>10.0</td>\n",
              "      <td>Australia Other</td>\n",
              "      <td>South Eastern Australia</td>\n",
              "      <td>Andrew Peace</td>\n",
              "      <td>Chardonnay</td>\n",
              "    </tr>\n",
              "    <tr>\n",
              "      <th>1</th>\n",
              "      <td>US</td>\n",
              "      <td>89</td>\n",
              "      <td>15.0</td>\n",
              "      <td>Washington</td>\n",
              "      <td>Columbia Valley (WA)</td>\n",
              "      <td>North by Northwest</td>\n",
              "      <td>Red Blend</td>\n",
              "    </tr>\n",
              "    <tr>\n",
              "      <th>2</th>\n",
              "      <td>Italy</td>\n",
              "      <td>94</td>\n",
              "      <td>80.0</td>\n",
              "      <td>Piedmont</td>\n",
              "      <td>Barolo</td>\n",
              "      <td>Renato Ratti</td>\n",
              "      <td>Nebbiolo</td>\n",
              "    </tr>\n",
              "    <tr>\n",
              "      <th>3</th>\n",
              "      <td>France</td>\n",
              "      <td>87</td>\n",
              "      <td>22.0</td>\n",
              "      <td>Southwest France</td>\n",
              "      <td>Bergerac Sec</td>\n",
              "      <td>Domaine l'Ancienne Cure</td>\n",
              "      <td>Bordeaux-style White Blend</td>\n",
              "    </tr>\n",
              "    <tr>\n",
              "      <th>4</th>\n",
              "      <td>France</td>\n",
              "      <td>88</td>\n",
              "      <td>33.0</td>\n",
              "      <td>France Other</td>\n",
              "      <td>Vin de Liqueur</td>\n",
              "      <td>Château du Cèdre</td>\n",
              "      <td>Malbec</td>\n",
              "    </tr>\n",
              "    <tr>\n",
              "      <th>5</th>\n",
              "      <td>Argentina</td>\n",
              "      <td>85</td>\n",
              "      <td>13.0</td>\n",
              "      <td>Other</td>\n",
              "      <td>San Juan</td>\n",
              "      <td>Andean</td>\n",
              "      <td>Cabernet Sauvignon</td>\n",
              "    </tr>\n",
              "    <tr>\n",
              "      <th>6</th>\n",
              "      <td>US</td>\n",
              "      <td>91</td>\n",
              "      <td>45.0</td>\n",
              "      <td>Washington</td>\n",
              "      <td>Columbia Valley (WA)</td>\n",
              "      <td>Gordon Estate</td>\n",
              "      <td>Red Blend</td>\n",
              "    </tr>\n",
              "    <tr>\n",
              "      <th>7</th>\n",
              "      <td>US</td>\n",
              "      <td>90</td>\n",
              "      <td>50.0</td>\n",
              "      <td>California</td>\n",
              "      <td>Sonoma County</td>\n",
              "      <td>Rock Wall</td>\n",
              "      <td>Zinfandel</td>\n",
              "    </tr>\n",
              "    <tr>\n",
              "      <th>8</th>\n",
              "      <td>US</td>\n",
              "      <td>91</td>\n",
              "      <td>48.0</td>\n",
              "      <td>Oregon</td>\n",
              "      <td>McMinnville</td>\n",
              "      <td>Elizabeth Chambers</td>\n",
              "      <td>Pinot Noir</td>\n",
              "    </tr>\n",
              "    <tr>\n",
              "      <th>9</th>\n",
              "      <td>Italy</td>\n",
              "      <td>86</td>\n",
              "      <td>31.0</td>\n",
              "      <td>Tuscany</td>\n",
              "      <td>Chianti Classico</td>\n",
              "      <td>Mannucci Droandi</td>\n",
              "      <td>Red Blend</td>\n",
              "    </tr>\n",
              "  </tbody>\n",
              "</table>\n",
              "</div>"
            ],
            "text/plain": [
              "     country  points  ...                   winery                     variety\n",
              "0  Australia      83  ...             Andrew Peace                  Chardonnay\n",
              "1         US      89  ...       North by Northwest                   Red Blend\n",
              "2      Italy      94  ...             Renato Ratti                    Nebbiolo\n",
              "3     France      87  ...  Domaine l'Ancienne Cure  Bordeaux-style White Blend\n",
              "4     France      88  ...         Château du Cèdre                      Malbec\n",
              "5  Argentina      85  ...                   Andean          Cabernet Sauvignon\n",
              "6         US      91  ...            Gordon Estate                   Red Blend\n",
              "7         US      90  ...                Rock Wall                   Zinfandel\n",
              "8         US      91  ...       Elizabeth Chambers                  Pinot Noir\n",
              "9      Italy      86  ...         Mannucci Droandi                   Red Blend\n",
              "\n",
              "[10 rows x 7 columns]"
            ]
          },
          "metadata": {
            "tags": []
          },
          "execution_count": 8
        }
      ]
    },
    {
      "cell_type": "code",
      "metadata": {
        "id": "cFX-2tgM6R-3",
        "colab_type": "code",
        "colab": {
          "base_uri": "https://localhost:8080/",
          "height": 376
        },
        "outputId": "5d9185c2-94ab-4029-9017-5e92bb7ac9d7"
      },
      "source": [
        "print('Test Data Head')\n",
        "test_WineData.head(10)"
      ],
      "execution_count": 9,
      "outputs": [
        {
          "output_type": "stream",
          "text": [
            "Test Data Head\n"
          ],
          "name": "stdout"
        },
        {
          "output_type": "execute_result",
          "data": {
            "text/html": [
              "<div>\n",
              "<style scoped>\n",
              "    .dataframe tbody tr th:only-of-type {\n",
              "        vertical-align: middle;\n",
              "    }\n",
              "\n",
              "    .dataframe tbody tr th {\n",
              "        vertical-align: top;\n",
              "    }\n",
              "\n",
              "    .dataframe thead th {\n",
              "        text-align: right;\n",
              "    }\n",
              "</style>\n",
              "<table border=\"1\" class=\"dataframe\">\n",
              "  <thead>\n",
              "    <tr style=\"text-align: right;\">\n",
              "      <th></th>\n",
              "      <th>country</th>\n",
              "      <th>points</th>\n",
              "      <th>price</th>\n",
              "      <th>province</th>\n",
              "      <th>region_1</th>\n",
              "      <th>winery</th>\n",
              "    </tr>\n",
              "  </thead>\n",
              "  <tbody>\n",
              "    <tr>\n",
              "      <th>0</th>\n",
              "      <td>US</td>\n",
              "      <td>88</td>\n",
              "      <td>35.0</td>\n",
              "      <td>Oregon</td>\n",
              "      <td>Willamette Valley</td>\n",
              "      <td>Boedecker Cellars</td>\n",
              "    </tr>\n",
              "    <tr>\n",
              "      <th>1</th>\n",
              "      <td>Argentina</td>\n",
              "      <td>90</td>\n",
              "      <td>60.0</td>\n",
              "      <td>Mendoza Province</td>\n",
              "      <td>Mendoza</td>\n",
              "      <td>Mendoza Vineyards</td>\n",
              "    </tr>\n",
              "    <tr>\n",
              "      <th>2</th>\n",
              "      <td>US</td>\n",
              "      <td>87</td>\n",
              "      <td>38.0</td>\n",
              "      <td>California</td>\n",
              "      <td>Coombsville</td>\n",
              "      <td>Prime</td>\n",
              "    </tr>\n",
              "    <tr>\n",
              "      <th>3</th>\n",
              "      <td>Argentina</td>\n",
              "      <td>91</td>\n",
              "      <td>20.0</td>\n",
              "      <td>Mendoza Province</td>\n",
              "      <td>Mendoza</td>\n",
              "      <td>Bodega Cuarto Dominio</td>\n",
              "    </tr>\n",
              "    <tr>\n",
              "      <th>4</th>\n",
              "      <td>Italy</td>\n",
              "      <td>90</td>\n",
              "      <td>49.0</td>\n",
              "      <td>Tuscany</td>\n",
              "      <td>Brunello di Montalcino</td>\n",
              "      <td>SassodiSole</td>\n",
              "    </tr>\n",
              "    <tr>\n",
              "      <th>5</th>\n",
              "      <td>US</td>\n",
              "      <td>82</td>\n",
              "      <td>9.0</td>\n",
              "      <td>Missouri</td>\n",
              "      <td>Missouri</td>\n",
              "      <td>Mount Pleasant Winery</td>\n",
              "    </tr>\n",
              "    <tr>\n",
              "      <th>7</th>\n",
              "      <td>US</td>\n",
              "      <td>88</td>\n",
              "      <td>26.0</td>\n",
              "      <td>California</td>\n",
              "      <td>Dry Creek Valley</td>\n",
              "      <td>Dry Creek Vineyard</td>\n",
              "    </tr>\n",
              "    <tr>\n",
              "      <th>9</th>\n",
              "      <td>Italy</td>\n",
              "      <td>88</td>\n",
              "      <td>24.0</td>\n",
              "      <td>Lombardy</td>\n",
              "      <td>Franciacorta</td>\n",
              "      <td>Contadi Castaldi</td>\n",
              "    </tr>\n",
              "    <tr>\n",
              "      <th>10</th>\n",
              "      <td>US</td>\n",
              "      <td>87</td>\n",
              "      <td>25.0</td>\n",
              "      <td>Oregon</td>\n",
              "      <td>Willamette Valley</td>\n",
              "      <td>Spindrift Cellars</td>\n",
              "    </tr>\n",
              "    <tr>\n",
              "      <th>11</th>\n",
              "      <td>France</td>\n",
              "      <td>88</td>\n",
              "      <td>35.0</td>\n",
              "      <td>Champagne</td>\n",
              "      <td>Champagne</td>\n",
              "      <td>Eric Taillet</td>\n",
              "    </tr>\n",
              "  </tbody>\n",
              "</table>\n",
              "</div>"
            ],
            "text/plain": [
              "      country  points  ...                region_1                 winery\n",
              "0          US      88  ...       Willamette Valley      Boedecker Cellars\n",
              "1   Argentina      90  ...                 Mendoza      Mendoza Vineyards\n",
              "2          US      87  ...             Coombsville                  Prime\n",
              "3   Argentina      91  ...                 Mendoza  Bodega Cuarto Dominio\n",
              "4       Italy      90  ...  Brunello di Montalcino            SassodiSole\n",
              "5          US      82  ...                Missouri  Mount Pleasant Winery\n",
              "7          US      88  ...        Dry Creek Valley     Dry Creek Vineyard\n",
              "9       Italy      88  ...            Franciacorta       Contadi Castaldi\n",
              "10         US      87  ...       Willamette Valley      Spindrift Cellars\n",
              "11     France      88  ...               Champagne           Eric Taillet\n",
              "\n",
              "[10 rows x 6 columns]"
            ]
          },
          "metadata": {
            "tags": []
          },
          "execution_count": 9
        }
      ]
    },
    {
      "cell_type": "code",
      "metadata": {
        "id": "WSeyK9mV6R-5",
        "colab_type": "code",
        "colab": {}
      },
      "source": [
        "# seperating out unique categorical values for useful categorical features\n",
        "\n",
        "train_countries = train_WineData['country'].unique()\n",
        "test_countries = test_WineData['country'].unique()\n",
        "countries = (np.concatenate([train_countries,test_countries], axis = 0))\n",
        "countries = np.unique(countries)\n",
        "\n",
        "train_provinces = train_WineData['province'].unique()\n",
        "test_provinces = test_WineData['province'].unique()\n",
        "provinces = (np.concatenate([train_provinces,test_provinces], axis = 0))\n",
        "provinces = np.unique(provinces)\n",
        "\n",
        "train_region_1s = train_WineData['region_1'].unique()\n",
        "test_region_1s = test_WineData['region_1'].unique()\n",
        "region_1s = (np.concatenate([train_region_1s,test_region_1s], axis = 0))\n",
        "region_1s = np.unique(region_1s)\n",
        "\n",
        "train_wineries = train_WineData['winery'].unique()\n",
        "test_wineries = test_WineData['winery'].unique()\n",
        "wineries = (np.concatenate([train_wineries,test_wineries], axis = 0))\n",
        "wineries = np.unique(wineries)\n",
        "\n",
        "varieties = train_WineData['variety'].unique()\n",
        "label = train_WineData['variety']\n",
        "features = test_WineData.columns\n",
        "\n",
        "classes_dict = {\n",
        "    'country': countries,\n",
        "    'province': provinces,\n",
        "    'region_1': region_1s,\n",
        "    'winery': wineries,\n",
        "    'variety': varieties,\n",
        "    'features': list(features)\n",
        "}\n"
      ],
      "execution_count": 0,
      "outputs": []
    },
    {
      "cell_type": "code",
      "metadata": {
        "id": "dPlwDX5C6R-7",
        "colab_type": "code",
        "colab": {
          "base_uri": "https://localhost:8080/",
          "height": 102
        },
        "outputId": "b30915f4-476a-4497-87e9-f66a1dc2cca9"
      },
      "source": [
        "print('Number of unique countries :', len(countries))\n",
        "print('Number of unique provinces :', len(provinces))\n",
        "print('Number of unique regions :', len(region_1s))\n",
        "print('Number of unique wineries :', len(wineries))\n",
        "print('Number of unique wine varieties',len(varieties))"
      ],
      "execution_count": 11,
      "outputs": [
        {
          "output_type": "stream",
          "text": [
            "Number of unique countries : 7\n",
            "Number of unique provinces : 63\n",
            "Number of unique regions : 1029\n",
            "Number of unique wineries : 12150\n",
            "Number of unique wine varieties 26\n"
          ],
          "name": "stdout"
        }
      ]
    },
    {
      "cell_type": "code",
      "metadata": {
        "id": "6rRCzPkz6R-9",
        "colab_type": "code",
        "colab": {}
      },
      "source": [
        "def Get_sparse_column(column_data, classes):\n",
        "    label_encoder = LabelEncoder()\n",
        "    label_encoder.fit(classes)\n",
        "    sparse_column_data = label_encoder.transform(column_data)\n",
        "    sparse_column_data = sparse_column_data.reshape((len(sparse_column_data),1))\n",
        "    return sparse_column_data\n"
      ],
      "execution_count": 0,
      "outputs": []
    },
    {
      "cell_type": "code",
      "metadata": {
        "id": "__kVlcpV6R_A",
        "colab_type": "code",
        "colab": {
          "base_uri": "https://localhost:8080/",
          "height": 493
        },
        "outputId": "bab6a491-36b8-46e6-f969-14c74da9a7bb"
      },
      "source": [
        "X_train_sparse = pd.concat([train_WineData['points'], train_WineData['price']],axis=1)\n",
        "X_test_sparse = pd.concat([test_WineData['points'], test_WineData['price']],axis=1)\n",
        "print('X_train_sparse')\n",
        "print(X_train_sparse.head())\n",
        "print('X_test_sparse')\n",
        "print(X_test_sparse.head())\n",
        "# converting to numpy array\n",
        "X_train_sparse = np.array(X_train_sparse)\n",
        "X_test_sparse = np.array(X_test_sparse)\n",
        "print('======================================')\n",
        "print('')\n",
        "print('After converting from Dataframe to numpy array')\n",
        "print(X_train_sparse[:5])\n",
        "print('')\n",
        "print(X_test_sparse[:5])"
      ],
      "execution_count": 13,
      "outputs": [
        {
          "output_type": "stream",
          "text": [
            "X_train_sparse\n",
            "   points  price\n",
            "0      83   10.0\n",
            "1      89   15.0\n",
            "2      94   80.0\n",
            "3      87   22.0\n",
            "4      88   33.0\n",
            "X_test_sparse\n",
            "   points  price\n",
            "0      88   35.0\n",
            "1      90   60.0\n",
            "2      87   38.0\n",
            "3      91   20.0\n",
            "4      90   49.0\n",
            "======================================\n",
            "\n",
            "After converting from Dataframe to numpy array\n",
            "[[83. 10.]\n",
            " [89. 15.]\n",
            " [94. 80.]\n",
            " [87. 22.]\n",
            " [88. 33.]]\n",
            "\n",
            "[[88. 35.]\n",
            " [90. 60.]\n",
            " [87. 38.]\n",
            " [91. 20.]\n",
            " [90. 49.]]\n"
          ],
          "name": "stdout"
        }
      ]
    },
    {
      "cell_type": "code",
      "metadata": {
        "id": "YHSFy2uE6R_C",
        "colab_type": "code",
        "colab": {
          "base_uri": "https://localhost:8080/",
          "height": 85
        },
        "outputId": "56420bc5-90d8-454f-a699-2cadfdfd6ab4"
      },
      "source": [
        "categorical_columns = ['country','province','region_1','winery']\n",
        "for column_name in categorical_columns:\n",
        "    \n",
        "    train_column_data = train_WineData[column_name]\n",
        "    test_column_data = test_WineData[column_name]\n",
        "    \n",
        "    classes = classes_dict[column_name]\n",
        "    \n",
        "    train_sparse_column = Get_sparse_column(train_column_data,classes)\n",
        "    test_sparse_column = Get_sparse_column(test_column_data,classes)\n",
        "    \n",
        "    X_train_sparse = np.concatenate((X_train_sparse ,train_sparse_column),axis = 1)\n",
        "    X_test_sparse = np.concatenate((X_test_sparse ,test_sparse_column),axis = 1)\n",
        "    print(X_train_sparse.shape[1], X_test_sparse.shape[1])\n",
        "    "
      ],
      "execution_count": 14,
      "outputs": [
        {
          "output_type": "stream",
          "text": [
            "3 3\n",
            "4 4\n",
            "5 5\n",
            "6 6\n"
          ],
          "name": "stdout"
        }
      ]
    },
    {
      "cell_type": "code",
      "metadata": {
        "id": "ehxrGdDA6R_E",
        "colab_type": "code",
        "colab": {
          "base_uri": "https://localhost:8080/",
          "height": 85
        },
        "outputId": "86de3bae-52c6-46bf-e993-1d28046134ea"
      },
      "source": [
        "Y_train_sparse = Get_sparse_column(label,varieties)\n",
        "print('X_train_sparse.shape = ',X_train_sparse.shape)\n",
        "print('Y_train_sparse.shape = ',Y_train_sparse.shape)\n",
        "print('')\n",
        "print('X_test_sparse.shape = ',X_test_sparse.shape)"
      ],
      "execution_count": 15,
      "outputs": [
        {
          "output_type": "stream",
          "text": [
            "X_train_sparse.shape =  (65199, 6)\n",
            "Y_train_sparse.shape =  (65199, 1)\n",
            "\n",
            "X_test_sparse.shape =  (16203, 6)\n"
          ],
          "name": "stdout"
        }
      ]
    },
    {
      "cell_type": "code",
      "metadata": {
        "id": "1HAuD-Hk6R_K",
        "colab_type": "code",
        "colab": {
          "base_uri": "https://localhost:8080/",
          "height": 561
        },
        "outputId": "3b61d72d-59e1-47d4-c0a9-d2de5361b50f"
      },
      "source": [
        "print(X_train_sparse[:10])\n",
        "print('')\n",
        "print(Y_train_sparse[:10])\n",
        "print('')\n",
        "print(X_test_sparse[:10])"
      ],
      "execution_count": 16,
      "outputs": [
        {
          "output_type": "stream",
          "text": [
            "[[8.300e+01 1.000e+01 1.000e+00 3.000e+00 8.560e+02 3.540e+02]\n",
            " [8.900e+01 1.500e+01 6.000e+00 6.100e+01 2.390e+02 8.630e+03]\n",
            " [9.400e+01 8.000e+01 4.000e+00 4.500e+01 6.200e+01 9.627e+03]\n",
            " [8.700e+01 2.200e+01 3.000e+00 5.200e+01 8.300e+01 4.951e+03]\n",
            " [8.800e+01 3.300e+01 3.000e+00 1.500e+01 9.610e+02 3.446e+03]\n",
            " [8.500e+01 1.300e+01 0.000e+00 4.300e+01 7.870e+02 3.430e+02]\n",
            " [9.100e+01 4.500e+01 6.000e+00 6.100e+01 2.390e+02 6.040e+03]\n",
            " [9.000e+01 5.000e+01 6.000e+00 8.000e+00 8.380e+02 9.795e+03]\n",
            " [9.100e+01 4.800e+01 6.000e+00 4.200e+01 5.210e+02 5.218e+03]\n",
            " [8.600e+01 3.100e+01 4.000e+00 5.700e+01 1.820e+02 7.844e+03]]\n",
            "\n",
            "[[ 5]\n",
            " [15]\n",
            " [11]\n",
            " [ 1]\n",
            " [ 9]\n",
            " [ 3]\n",
            " [15]\n",
            " [25]\n",
            " [14]\n",
            " [15]]\n",
            "\n",
            "[[8.8000e+01 3.5000e+01 6.0000e+00 4.2000e+01 1.0170e+03 1.1300e+03]\n",
            " [9.0000e+01 6.0000e+01 0.0000e+00 2.8000e+01 5.3000e+02 8.1550e+03]\n",
            " [8.7000e+01 3.8000e+01 6.0000e+00 8.0000e+00 2.4800e+02 9.3680e+03]\n",
            " [9.1000e+01 2.0000e+01 0.0000e+00 2.8000e+01 5.3000e+02 1.0180e+03]\n",
            " [9.0000e+01 4.9000e+01 4.0000e+00 5.7000e+01 1.1700e+02 1.0059e+04]\n",
            " [8.2000e+01 9.0000e+00 6.0000e+00 3.0000e+01 5.4100e+02 8.4360e+03]\n",
            " [8.8000e+01 2.6000e+01 6.0000e+00 8.0000e+00 3.3600e+02 5.0740e+03]\n",
            " [8.8000e+01 2.4000e+01 4.0000e+00 2.6000e+01 3.7500e+02 3.9020e+03]\n",
            " [8.7000e+01 2.5000e+01 6.0000e+00 4.2000e+01 1.0170e+03 1.0487e+04]\n",
            " [8.8000e+01 3.5000e+01 3.0000e+00 1.2000e+01 1.7200e+02 5.2920e+03]]\n"
          ],
          "name": "stdout"
        }
      ]
    },
    {
      "cell_type": "code",
      "metadata": {
        "id": "-7mgk4Fx6R_M",
        "colab_type": "code",
        "colab": {}
      },
      "source": [
        "np.save('X_train_sparse.npy',X_train_sparse)\n",
        "np.save('Y_train_sparse.npy',Y_train_sparse)\n",
        "np.save('X_test_sparse.npy',X_test_sparse)"
      ],
      "execution_count": 0,
      "outputs": []
    },
    {
      "cell_type": "code",
      "metadata": {
        "id": "BOd50iLi6R_P",
        "colab_type": "code",
        "colab": {
          "base_uri": "https://localhost:8080/",
          "height": 207
        },
        "outputId": "4740bf12-03f5-4651-dcc8-5d0479bd3233"
      },
      "source": [
        "from sklearn.model_selection import train_test_split\n",
        "from sklearn.metrics import accuracy_score\n",
        "from sklearn.ensemble import RandomForestClassifier\n",
        "import numpy as np\n",
        "X_train,X_test,Y_train,Y_test = train_test_split(X_train_sparse,Y_train_sparse,test_size = 0.3)\n",
        "classifier1 = RandomForestClassifier(n_estimators = 110)\n",
        "classifier1.fit(X_train,Y_train)"
      ],
      "execution_count": 31,
      "outputs": [
        {
          "output_type": "stream",
          "text": [
            "/usr/local/lib/python3.6/dist-packages/ipykernel_launcher.py:7: DataConversionWarning: A column-vector y was passed when a 1d array was expected. Please change the shape of y to (n_samples,), for example using ravel().\n",
            "  import sys\n"
          ],
          "name": "stderr"
        },
        {
          "output_type": "execute_result",
          "data": {
            "text/plain": [
              "RandomForestClassifier(bootstrap=True, ccp_alpha=0.0, class_weight=None,\n",
              "                       criterion='gini', max_depth=None, max_features='auto',\n",
              "                       max_leaf_nodes=None, max_samples=None,\n",
              "                       min_impurity_decrease=0.0, min_impurity_split=None,\n",
              "                       min_samples_leaf=1, min_samples_split=2,\n",
              "                       min_weight_fraction_leaf=0.0, n_estimators=110,\n",
              "                       n_jobs=None, oob_score=False, random_state=None,\n",
              "                       verbose=0, warm_start=False)"
            ]
          },
          "metadata": {
            "tags": []
          },
          "execution_count": 31
        }
      ]
    },
    {
      "cell_type": "code",
      "metadata": {
        "id": "kDKaUdTzBW_D",
        "colab_type": "code",
        "colab": {
          "base_uri": "https://localhost:8080/",
          "height": 51
        },
        "outputId": "20ec3e67-2a43-4ad0-c4b5-3883ff4fa1ed"
      },
      "source": [
        "test_predictions = classifier1.predict(X_test)\n",
        "train_predictions = classifier1.predict(X_train)\n",
        "print('Train Accuracy :', accuracy_score(Y_train,train_predictions))\n",
        "print('Test Accuracy :', accuracy_score(Y_test,test_predictions))"
      ],
      "execution_count": 32,
      "outputs": [
        {
          "output_type": "stream",
          "text": [
            "Train Accuracy : 0.9733780319463616\n",
            "Test Accuracy : 0.5826175869120654\n"
          ],
          "name": "stdout"
        }
      ]
    },
    {
      "cell_type": "code",
      "metadata": {
        "id": "W6epf9w1HE76",
        "colab_type": "code",
        "colab": {}
      },
      "source": [
        "predictions = classifier1.predict(X_test_sparse)\n",
        "import pandas as pd \n",
        "pd.DataFrame(predictions).to_csv(\"predictions.csv\")"
      ],
      "execution_count": 0,
      "outputs": []
    },
    {
      "cell_type": "code",
      "metadata": {
        "id": "1ZBSNV_UH3Vm",
        "colab_type": "code",
        "colab": {}
      },
      "source": [
        ""
      ],
      "execution_count": 0,
      "outputs": []
    }
  ]
}